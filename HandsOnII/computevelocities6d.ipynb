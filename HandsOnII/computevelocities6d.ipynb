{
 "cells": [
  {
   "cell_type": "markdown",
   "metadata": {},
   "source": [
    "# compute cylindrical coordinates full 6D\n",
    "(need to be adapted to read data from Gaia data archive)\n"
   ]
  },
  {
   "cell_type": "code",
   "execution_count": 1,
   "metadata": {
    "collapsed": true
   },
   "outputs": [],
   "source": [
    "from astropy.table import Table\n",
    "import pandas as pd\n",
    "import numpy as np\n",
    "import matplotlib.pyplot as plt\n",
    "import matplotlib\n",
    "import matplotlib.colors as mcolors\n",
    "from astropy import units as u\n",
    "from astropy.coordinates import SkyCoord\n",
    "import sys\n",
    "from os.path import expanduser\n",
    "home = expanduser(\"~\")\n",
    "from pygaia.astrometry.vectorastrometry import astrometry_to_phase_space\n",
    "import pygaia.astrometry.coordinates as coord\n",
    "from pygaia.utils import degreesToRadians, radiansToDegrees"
   ]
  },
  {
   "cell_type": "code",
   "execution_count": null,
   "metadata": {},
   "outputs": [],
   "source": [
    "def obs2cyl_astrometry(df0,ra_name='ra',dec_name='dec',pmra_name='pmra',pmdec_name='pmdec',dist_name='dist'\n",
    "                   ,l_name='l',b_name='b',pml_name='pml',pmb_name='pmb'\n",
    "                   ,Vl_name='Vl',Vb_name='Vb',X_name='X',Y_name='Y',Z_name='Z',R_name='R',phi_name='phi'\n",
    "                   ,rs=8.178,Zs=0.0208,Us=11.1,Vs=248.5,Ws=7.25):\n",
    "    k=4.7404705\n",
    "    df = pd.DataFrame()\n",
    "    df2 = pd.DataFrame()\n",
    "    \n",
    "    \n",
    "    \n",
    "    \n",
    "    rot3 = coord.CoordinateTransformation(coord.Transformations.ICRS2GAL)\n",
    "    gal=rot3.transformSkyCoordinates(degreesToRadians(df0[ra_name]), degreesToRadians(df0[dec_name]))\n",
    "    pmgal=rot3.transformProperMotions(degreesToRadians(df0[ra_name]),\n",
    "                                      degreesToRadians(df0[dec_name]),df0[pmra_name],df0[pmdec_name])\n",
    "    #ps=astrometryToPhaseSpace(gal[0], gal[1], 1./df0['dist'], pmgal[0], pmgal[1], pmgal[1]*0.)\n",
    "    \n",
    "    df2[l_name]=radiansToDegrees(gal[0])\n",
    "    df2[b_name]=radiansToDegrees(gal[1])\n",
    "    df2[pml_name]=pmgal[0]\n",
    "    df2[pmb_name]=pmgal[1]\n",
    "    print(pmgal[0])\n",
    "\n",
    "    solarreflex_Vl=-Us*np.sin(gal[0])+Vs*np.cos(gal[0])\n",
    "    solarreflex_Vb=(-Us*np.cos(gal[0])-Vs*np.sin(gal[0]))*np.sin(gal[1])+Ws*np.cos(gal[1])\n",
    "  \n",
    "    #print(len(df2[pml_name]),len(df0[dist_name]),len(solarreflex_Vl))\n",
    "    df[Vl_name]=df2[pml_name]*k*df0[dist_name]+solarreflex_Vl\n",
    "    df[Vb_name]=df2[pmb_name]*k*df0[dist_name]+solarreflex_Vb\n",
    "    df[X_name]=(1.*df0[dist_name])*np.cos(df2[l_name]*np.pi/180.)*np.cos(df2[b_name]*np.pi/180.)\n",
    "    df[Y_name]=(1.*df0[dist_name])*np.sin(df2[l_name]*np.pi/180.)*np.cos(df2[b_name]*np.pi/180.)\n",
    "    df[Z_name]=(1.*df0[dist_name])*np.sin(df2[b_name]*np.pi/180.)\n",
    "    \n",
    "    #print('1',ps[4])\n",
    "    #print('2',df2[pml_name]*k*df0[dist_name])\n",
    "\n",
    "    \n",
    "    dgc= rs    \n",
    "    Xs=np.sqrt(dgc**2.-Zs**2.)\n",
    "    costheta, sintheta= Xs/dgc, -Zs/dgc\n",
    "    XYZ= np.dot(np.array([[costheta,0.,-sintheta], [0.,1.,0.],[sintheta,0.,costheta]]),\n",
    "                  np.array([df[X_name]-dgc,df[Y_name],df[Z_name]])).T\n",
    "\n",
    "    df[X_name]=XYZ[:,0]\n",
    "    df[Y_name]=XYZ[:,1]\n",
    "    df[Z_name]=XYZ[:,2]\n",
    "    df[R_name]=np.sqrt(df[Y_name]**2.+df[X_name]**2.)\n",
    "    df[phi_name]=np.degrees(np.arctan2(-XYZ[:,1],-XYZ[:,0]))\n",
    "\n",
    "    \n",
    "    return df,df2\n",
    "\n",
    "def absG(df0,phot_g_mean_mag_name='phot_g_mean_mag',dist_name='dist',MG_name='MG'):\n",
    "    df = pd.DataFrame()\n",
    "    df[MG_name]=df0[phot_g_mean_mag_name]-5.*np.log10(1000.*df0[dist_name])+5.\n",
    "    return df\n",
    "\n",
    "#TRANSFORMATION BETWEEN DIFFERENT COORDINATE SYSTEMS\n",
    "# these transformations are valid for right-handed systems only\n",
    "# it means that phi goes counter-clockwise, and vphi is negative for standard disk rotation\n",
    "\n",
    "#in all cases Vs=Vc+Vpec\n",
    "\n",
    "##############################################\n",
    "# general rotation of coordinate system by an angle phi\n",
    "def rot(phi,X,Y):\n",
    "    s=np.sin(phi)\n",
    "    c=np.cos(phi)  \n",
    "    X2=X*c-Y*s\n",
    "    Y2=X*s+Y*c\n",
    "    return X2,Y2\n",
    "##############################################\n",
    "# from cartesian to cylindric\n",
    "def cart2cyl(X,Y,Z,VX,VY,VZ):\n",
    "    phi=np.arctan2(-Y,-X)\n",
    "    R=np.sqrt(X*X+Y*Y)\n",
    "    VR,Vphi=rot(-(np.pi+phi),VX,VY)\n",
    "    return R,phi,Z,VR,Vphi,VZ\n",
    "# from cylindric to cartesian\n",
    "def cyl2cart(R,phi,Z,VR,Vphi,VZ):\n",
    "    X=-R*np.cos(phi)\n",
    "    Y=-R*np.sin(phi)\n",
    "    VX,VY=rot(np.pi+phi,VR,Vphi)\n",
    "    return X,Y,Z,VX,VY,VZ\n",
    "##############################################\n",
    "#from cylindrical to solar (Vt, Vlos) \n",
    "def cyl2solar(R,phi,VR,Vphi,rs=8.178,Z=0.,VZ=0.,Us=11.1,Vs=248.5,Ws=0.):\n",
    "    X=-R*np.cos(phi)\n",
    "    Y=-R*np.sin(phi)\n",
    "    lon=np.arctan2(Y,rs+X)\n",
    "    vlos,vtl=rot(phi+np.pi-lon,VR,Vphi)\n",
    "    c1,c2=add_solamotiontosolar(lon,0.,Us=Us,Vs=Vs,Ws=Ws)\n",
    "    vlos=vlos-c1\n",
    "    vtl=vtl-c2\n",
    "    return vlos,vtl\n",
    "##############################################\n",
    "#add solar reflex motion to solar-reference system velocities to make them galactocentric\n",
    "def add_solamotiontosolar(lon,lat,Us=11.1,Vs=248.5,Ws=7.25):    \n",
    "    solarreflex_Vlos=(Us*np.cos(lon)+Vs*np.sin(lon))*np.cos(lat)+Ws*np.sin(lat)\n",
    "    solarreflex_Vl=-Us*np.sin(lon)+Vs*np.cos(lon)\n",
    "    solarreflex_Vb=(-Us*np.cos(lon)-Vs*np.sin(lon))*np.sin(lat)+Ws*np.cos(lat)\n",
    "    return solarreflex_Vlos,solarreflex_Vl\n",
    "\n",
    "def obs2cyl(df0,ra_name='ra',dec_name='dec',pmra_name='pmra',pmdec_name='pmdec',dist_name='dist'\n",
    "                   ,l_name='l',b_name='b',pml_name='pml',pmb_name='pmb',radial_velocity_name='radial_velocity'\n",
    "                   ,VR_name='VR',Vphi_name='Vphi',VZ_name='VZ',X_name='X',Y_name='Y',Z_name='Z'\n",
    "                     ,R_name='R',phi_name='phi'\n",
    "                   ,rs=8.178,Zs=0.0208,Us=11.1,Vs=248.5,Ws=7.25):\n",
    "    \n",
    "    \n",
    "    df = pd.DataFrame()\n",
    "    rot3 = coord.CoordinateTransformation(coord.Transformations.ICRS2GAL)\n",
    "    gal=rot3.transformSkyCoordinates(degreesToRadians(df0[ra_name]), degreesToRadians(df0[dec_name]))\n",
    "    pmgal=rot3.transformProperMotions(degreesToRadians(df0[ra_name]), degreesToRadians(df0[dec_name]),df0[pmra_name],df0[pmdec_name])\n",
    "    \n",
    "    ps=astrometryToPhaseSpace(gal[0], gal[1], 1./df0[dist_name], pmgal[0], pmgal[1], df0[radial_velocity_name])\n",
    "    #ps=astrometryToPhaseSpace(gal[0], gal[1], 1./df0['dist'], pmgal[0], pmgal[1], pmgal[1]*0.)\n",
    "\n",
    "    X=ps[0]/1000.\n",
    "    Y=ps[1]/1000.\n",
    "    Z=ps[2]/1000.\n",
    "\n",
    "    #transform to put sun at -X axis WRONG!!\n",
    "    #X=-rs+X\n",
    "    #Y=Y\n",
    "    #Z=Z+Zs\n",
    "\n",
    "    dgc= rs    \n",
    "    Xs=np.sqrt(dgc**2.-Zs**2.)\n",
    "    costheta, sintheta= Xs/dgc, -Zs/dgc\n",
    "    XYZ= np.dot(np.array([[costheta,0.,-sintheta], [0.,1.,0.],[sintheta,0.,costheta]]),\n",
    "                  np.array([X-dgc,Y,Z])).T\n",
    "\n",
    "    #print(ps[3])\n",
    "    #print(ps[4])\n",
    "    #print(ps[5])\n",
    "\n",
    "    #add solar motion\n",
    "    VX=ps[3]+Us\n",
    "    VY=ps[4]+Vs\n",
    "    VZ=ps[5]+Ws\n",
    "    \n",
    "    VXVYVZ= np.dot(np.array([[costheta,0.,-sintheta], [0.,1.,0.],[sintheta,0.,costheta]]),\n",
    "                  np.array([VX,VY,VZ])).T\n",
    "    \n",
    "    #vsunin= np.dot(np.array([[costheta,0.,-sintheta], [0.,1.,0.],[sintheta,0.,costheta]]),\n",
    "    #              np.array([Us,Vs,Ws])).T\n",
    "    #print(vsunin)\n",
    "    \n",
    "    #print(' ')\n",
    "    #print(VXVYVZ[:,0])\n",
    "    #print(VXVYVZ[:,1])\n",
    "    #print(VXVYVZ[:,2])    \n",
    "    \n",
    "    \n",
    "    R,phi,Z,VR,Vphi,VZ=cart2cyl(XYZ[:,0],XYZ[:,1],XYZ[:,2],VXVYVZ[:,0],VXVYVZ[:,1],VXVYVZ[:,2])\n",
    "    \n",
    "    df[VR_name]=VR\n",
    "    df[Vphi_name]=Vphi\n",
    "    df[VZ_name]=VZ\n",
    "    df[X_name]=XYZ[:,0]\n",
    "    df[Y_name]=XYZ[:,1]\n",
    "    df[Z_name]=XYZ[:,2]\n",
    "    df[R_name]=R\n",
    "    df[phi_name]=np.degrees(phi)\n",
    "\n",
    "    #print(gal[0]*180./np.pi)\n",
    "    #print(Vphi)\n",
    "    \n",
    "    \n",
    "    #print(' ')\n",
    "    #print(VR)\n",
    "    #print(Vphi)\n",
    "    #print(VZ) \n",
    "\n",
    "    return df\n",
    "\n"
   ]
  },
  {
   "cell_type": "code",
   "execution_count": 2,
   "metadata": {},
   "outputs": [
    {
     "name": "stdout",
     "output_type": "stream",
     "text": [
      "['dec', 'dr2_radial_velocity', 'dr2_radial_velocity_error', 'parallax', 'parallax_error', 'pmdec', 'pmdec_error', 'pmra', 'pmra_error', 'ra', 'source_id']\n",
      "6156684\n"
     ]
    }
   ],
   "source": [
    "#reading main file\n",
    "\n",
    "#6f edr3int4\n",
    "path0=home+\"/EDR3_anticenter/files/edr3int4/\"\n",
    "file0='edr3int4_RVS_full'\n",
    "\n",
    "file1=path0+file0+'.h5'\n",
    "df = pd.read_hdf(file1, \"table\")\n",
    "print(df.columns.values.tolist())\n",
    "print(len(df))"
   ]
  },
  {
   "cell_type": "code",
   "execution_count": null,
   "metadata": {},
   "outputs": [],
   "source": []
  },
  {
   "cell_type": "code",
   "execution_count": 3,
   "metadata": {},
   "outputs": [
    {
     "name": "stdout",
     "output_type": "stream",
     "text": [
      "['dec', 'dr2_radial_velocity', 'dr2_radial_velocity_error', 'parallax', 'parallax_error', 'pmdec', 'pmdec_error', 'pmra', 'pmra_error', 'ra', 'source_id', 'dist']\n"
     ]
    }
   ],
   "source": [
    "#establising distance used and name!!!!!!\n",
    "file0='edr3int4_piepi3_zp17_RVS'\n",
    "\n",
    "df['dist']=1./(df['parallax']-(-0.017)) #for the full 6d sample e.g. or four 1/pi\n",
    "\n",
    "print(df.columns.values.tolist())"
   ]
  },
  {
   "cell_type": "code",
   "execution_count": 4,
   "metadata": {
    "collapsed": true
   },
   "outputs": [],
   "source": [
    "df['radial_velocity']=df['dr2_radial_velocity']"
   ]
  },
  {
   "cell_type": "markdown",
   "metadata": {},
   "source": [
    "# computing 6d phase space"
   ]
  },
  {
   "cell_type": "code",
   "execution_count": 5,
   "metadata": {
    "collapsed": true
   },
   "outputs": [],
   "source": [
    "ind=df['parallax']/df['parallax_error']>3\n",
    "df=df[ind]"
   ]
  },
  {
   "cell_type": "code",
   "execution_count": 6,
   "metadata": {
    "collapsed": true
   },
   "outputs": [],
   "source": [
    "df_GAL3=obs2cyl(df)"
   ]
  },
  {
   "cell_type": "code",
   "execution_count": 37,
   "metadata": {
    "collapsed": true
   },
   "outputs": [],
   "source": [
    "df_GAL3['source_id']=df['source_id'].copy()"
   ]
  },
  {
   "cell_type": "code",
   "execution_count": 38,
   "metadata": {},
   "outputs": [
    {
     "name": "stdout",
     "output_type": "stream",
     "text": [
      "/Users/tantoja/EDR3_anticenter/files/edr3int4/edr3int4_piepi3_zp17_RVS_GAL6D\n",
      "6156684\n"
     ]
    }
   ],
   "source": [
    "fileout=file0+'_GAL6D'\n",
    "print(path0+fileout)\n",
    "print(len(df_GAL3))\n",
    "path0=home+\"/EDR3_anticenter/files/edr3int4/\""
   ]
  },
  {
   "cell_type": "code",
   "execution_count": 39,
   "metadata": {
    "collapsed": true
   },
   "outputs": [],
   "source": [
    "#write in h5\n",
    "df_GAL3.to_hdf(path0+fileout+'.h5', \"table\", append=False)\n",
    "#write in fits\n",
    "Table.from_pandas(df_GAL3).write(path0+fileout+'.fits', overwrite=True)\n",
    "#write in csv\n",
    "#df_GAL.to_csv(path_or_buf=path0+fileout+'.csv',index=False)"
   ]
  }
 ],
 "metadata": {
  "kernelspec": {
   "display_name": "Python 3 (ipykernel)",
   "language": "python",
   "name": "python3"
  },
  "language_info": {
   "codemirror_mode": {
    "name": "ipython",
    "version": 3
   },
   "file_extension": ".py",
   "mimetype": "text/x-python",
   "name": "python",
   "nbconvert_exporter": "python",
   "pygments_lexer": "ipython3",
   "version": "3.8.2"
  }
 },
 "nbformat": 4,
 "nbformat_minor": 2
}
